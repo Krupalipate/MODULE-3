{
 "cells": [
  {
   "cell_type": "code",
   "execution_count": null,
   "id": "547afc38",
   "metadata": {},
   "outputs": [],
   "source": [
    "#Q=1 What is List? How will you reverse a list? \n",
    "\n",
    "Using the reversed() method and reverse() method, we can reverse the contents of the list object in place i.e.,\n",
    "we don’t need to create a new list instead we just copy the existing elements to the original list in reverse order.\n",
    "This method directly modifies the original list. "
   ]
  },
  {
   "cell_type": "code",
   "execution_count": null,
   "id": "37eabc85",
   "metadata": {},
   "outputs": [],
   "source": [
    "#Q=2 How will you remove last object from a list?\n",
    " \n",
    "    pop() function. The simplest approach is to use the list's pop([i]) function, \n",
    "    which removes an element present at the specified position in the list.\n",
    "    If we don't specify any index, pop() removes and returns the last element in the list."
   ]
  },
  {
   "cell_type": "code",
   "execution_count": null,
   "id": "23dcae50",
   "metadata": {},
   "outputs": [],
   "source": [
    "#Q=3 Suppose list1 is [2, 33, 222, 14, and 25], what is list1 [-1]? \n",
    " list1 in the last value 25 is [-1]"
   ]
  },
  {
   "cell_type": "code",
   "execution_count": null,
   "id": "219f207e",
   "metadata": {},
   "outputs": [],
   "source": [
    "#Q=4 Differentiate between append () and extend () methods? \n",
    "    append(): last ma value add kare.1 j item add kari sakai\n",
    "    extend():1 karta vadhre value (multipal value add)kari sakai."
   ]
  },
  {
   "cell_type": "code",
   "execution_count": null,
   "id": "823c089b",
   "metadata": {},
   "outputs": [],
   "source": [
    "#Q=5 Write a Python function to get the largest number, smallest num and sum of all from a list. \n",
    "l1=[1,56,23,98,100,32]\n",
    "l2=[1,56,23,98,100,32]\n",
    "print(min(l1))\n",
    "print(max(l1))\n",
    "#sm=sum(l1)\n",
    "\n",
    "l1\n",
    "l1\n"
   ]
  },
  {
   "cell_type": "code",
   "execution_count": null,
   "id": "88ef3884",
   "metadata": {},
   "outputs": [],
   "source": [
    "#Q=6 How will you compare two lists? \n",
    "l1=[1,2,3,4,5,6,7,8,9,10]\n",
    "l2=[1,2,3,4,5,6,7,8,9,10]\n",
    "l1==l2"
   ]
  },
  {
   "cell_type": "code",
   "execution_count": null,
   "id": "04079777",
   "metadata": {},
   "outputs": [],
   "source": [
    "#Q=7 Write a Python program to count the number of strings where the string\n",
    "#length is 2 or more and the first and last character are same from a given\n",
    "#list of strings. \n",
    "\n",
    "# l1=['krupali','sonal','rushikesh','krupali','kishorbahi']\n",
    "# print (len(l1))\n",
    "# l1.count('krupali')\n",
    "\n",
    "mainlist = ['jay','kothari','aba','jaj','ii','i']\n",
    "cnt = 0\n",
    "for _ in mainlist:\n",
    "    if len(_) >= 2 and _[0] == _[-1]:\n",
    "        cnt = cnt + 1\n",
    "        \n",
    "print(cnt)"
   ]
  },
  {
   "cell_type": "code",
   "execution_count": null,
   "id": "7f72aec6",
   "metadata": {},
   "outputs": [],
   "source": [
    "#Q=8  Write a Python program to remove duplicates from a list.\n",
    "l1=[1,2,3,1,2,3,4]\n",
    "#print('duplicate value:',l1)\n",
    "print(list(set(l1)))\n"
   ]
  },
  {
   "cell_type": "code",
   "execution_count": null,
   "id": "c95d557f",
   "metadata": {},
   "outputs": [],
   "source": [
    "#Q=9 Write a Python program to check a list is empty or not. \n",
    "l1=[3,4,2,5,7,8,9]\n",
    "\n",
    "if len(l1)>=0:\n",
    "    print('empty')\n",
    "else:\n",
    "    print('not empty')\n",
    "    \n",
    "    "
   ]
  },
  {
   "cell_type": "code",
   "execution_count": null,
   "id": "a1e02e50",
   "metadata": {},
   "outputs": [],
   "source": [
    "#Q=10 Write a Python function that takes two lists and returns true if they have at least one common member. \n",
    "\n",
    "l1=[1,2,3,4]\n",
    "l2=[6,7,8,9]\n",
    "flag = 0\n",
    "for i in l1:\n",
    "    for j in l2:\n",
    "        if i==j:\n",
    "            flage = 1\n",
    "            break\n",
    "if flag==1:\n",
    "    print('true')\n",
    "else:\n",
    "    print('flase')\n",
    "    \n"
   ]
  },
  {
   "cell_type": "code",
   "execution_count": null,
   "id": "6939be66",
   "metadata": {},
   "outputs": [],
   "source": [
    "#Q=11 Write a Python program to generate and print a list of first and last 5\n",
    "#     elements where the values are square of numbers between 1 and 30. \n",
    "\n",
    "lst = [ ]\n",
    "for i in range(1,6):\n",
    "    lst += [ i**2 ]\n",
    "    \n",
    "for i in range(6,26):\n",
    "    lst += [ i ]\n",
    "\n",
    "for i in range(26,31):\n",
    "    lst += [ i**2 ]\n",
    "\n",
    "print(lst)"
   ]
  },
  {
   "cell_type": "code",
   "execution_count": null,
   "id": "b7a82ed7",
   "metadata": {},
   "outputs": [],
   "source": [
    "#Q=12 Write a Python function that takes a list and returns a new list with unique elements of the first list. \n",
    "\n",
    "def list(l):\n",
    "    return set(l)\n",
    "\n",
    "l1 = list(map(int, input().split()))\n",
    "print('Old list :',list(l1))\n",
    "print('New list :', list(list(l1)))\n",
    "\n"
   ]
  },
  {
   "cell_type": "code",
   "execution_count": null,
   "id": "134c99dd",
   "metadata": {},
   "outputs": [],
   "source": [
    "#Q=13 Write a Python program to convert a list of characters into a string. \n",
    "l1=['k','r','u','p','a','l','i' 'p','a','t','e','l']\n",
    "''.join(l1)"
   ]
  },
  {
   "cell_type": "code",
   "execution_count": null,
   "id": "d9da9d9e",
   "metadata": {},
   "outputs": [],
   "source": [
    "#Q=14 Write a Python program to select an item randomly from a list.\n",
    "import random\n",
    "l1=['k','r','u','p','a','l','i']\n",
    "print(random.choice(l1))"
   ]
  },
  {
   "cell_type": "code",
   "execution_count": null,
   "id": "8b33bab7",
   "metadata": {},
   "outputs": [],
   "source": [
    "#Q=15 Write a Python program to find the second smallest number in a list.\n",
    "\n",
    "def find_len(l1):\n",
    "    length = len(l1)\n",
    "    list1.sort()\n",
    "    print(\"Second Smallest element is:\", l1[1])\n",
    "l1=[12, 45, 2, 41, 31, 10, 8, 6, 4]\n",
    "print(min(l1))                                    #baki che thodu\n"
   ]
  },
  {
   "cell_type": "code",
   "execution_count": null,
   "id": "5d38a333",
   "metadata": {},
   "outputs": [],
   "source": [
    "#Q=16 Write a Python program to get unique values from a list \n",
    "l1 = [10, 20, 30, 40, 20, 50, 60, 40]\n",
    "print(\"Original List : \",l1)\n",
    "l2 = set(l1)\n",
    "list = list(l2)\n",
    "print(\"List of unique numbers : \",list)\n",
    "\n"
   ]
  },
  {
   "cell_type": "code",
   "execution_count": null,
   "id": "71deb31f",
   "metadata": {},
   "outputs": [],
   "source": [
    "#Q=17 Write a Python program to check whether a list contains a sub list"
   ]
  },
  {
   "cell_type": "code",
   "execution_count": null,
   "id": "9ce52f46",
   "metadata": {},
   "outputs": [],
   "source": [
    "#Q=18 Write a Python program to split a list into different variables.\n",
    "a = 'krupali kishorbhai patel'\n",
    "a.split()\n",
    "\n"
   ]
  },
  {
   "cell_type": "code",
   "execution_count": null,
   "id": "c6c813a2",
   "metadata": {},
   "outputs": [],
   "source": [
    "#Q=19 What is tuple? Difference between list and tuple. \n",
    "\n",
    "a tuple is a sequence of immutable python object  (tene run time par kyare change na kari sakay)\n",
    "tuple ne change karvu hoi to list ma convet karvu pade then pachi tene updeted karay \n",
    "tuple ma multiple data type ni value store kari sakay\n",
    "tuple pan index valueni uper j work kare che \n",
    "tuple ne ( ) round breaket ma j lakhay\n",
    "and list ne [ ] squre breaket ma lakhay\n"
   ]
  },
  {
   "cell_type": "code",
   "execution_count": null,
   "id": "dc7646c7",
   "metadata": {},
   "outputs": [],
   "source": [
    "#Q=20  Write a Python program to create a tuple with different data types. \n",
    "t1=('krupali',100,True)\n",
    "t1                    #true valu na lidhe run nathi thatu."
   ]
  },
  {
   "cell_type": "code",
   "execution_count": null,
   "id": "b68f7f81",
   "metadata": {},
   "outputs": [],
   "source": [
    "#Q=21 Write a Python program to create a tuple with numbers. \n",
    "t1=('apple','orange','mango',1,2,3,4,5,6)\n",
    "print(\"curent tuple:\",t1)\n"
   ]
  },
  {
   "cell_type": "code",
   "execution_count": null,
   "id": "90c0a6c8",
   "metadata": {},
   "outputs": [],
   "source": [
    "#Q=22 Write a Python program to convert a tuple to a string. \n",
    "t1=('k','r','u','p','a','l','i')\n",
    "str=''.join(t1)\n",
    "print(str)\n"
   ]
  },
  {
   "cell_type": "code",
   "execution_count": null,
   "id": "81f23728",
   "metadata": {},
   "outputs": [],
   "source": [
    "#Q=23  Write a Python program to check whether an element exists within a  tuple\n",
    "t1 = ('k','r','u','p','a','l','i',1,'p','a','t','e','l')\n",
    "print(\"r\" in t1)\n",
    "print(5 in t1)"
   ]
  },
  {
   "cell_type": "code",
   "execution_count": null,
   "id": "24bbe579",
   "metadata": {},
   "outputs": [],
   "source": [
    "#Q=24 Write a Python program to find the length of a tuple. \n",
    "\n",
    "t1=('krupali','sonal','rushikesh','kaminiben','kishorbhai')\n",
    "print(len(t1))\n"
   ]
  },
  {
   "cell_type": "code",
   "execution_count": null,
   "id": "b78a72cd",
   "metadata": {},
   "outputs": [],
   "source": [
    "#Q=25  Write a Python program to convert a list to a tuple.  \n",
    "t1=('krupali','sonal','rushikesh',1,2,3,4,5)\n",
    "x = tuple(t1)\n",
    "print(x)\n",
    "\n"
   ]
  },
  {
   "cell_type": "code",
   "execution_count": null,
   "id": "728f2cc9",
   "metadata": {},
   "outputs": [],
   "source": [
    "#Q=26  Write a Python program to reverse a tuple. \n",
    "\n",
    "x = ('krupali patel')\n",
    "y = reversed(x)\n",
    "print(tuple(y))\n"
   ]
  },
  {
   "cell_type": "code",
   "execution_count": null,
   "id": "4dae0464",
   "metadata": {},
   "outputs": [],
   "source": [
    "#Q=27  Write a Python program to replace last value of tuples in a list. \n",
    "\n",
    "lst = [(728,725,99), (1,2,3), (33,99,56)]\n",
    "\n",
    "print([t[:-1] + (4,) for t in lst])\n",
    "\n",
    "\n",
    "\n"
   ]
  },
  {
   "cell_type": "code",
   "execution_count": null,
   "id": "3b556733",
   "metadata": {},
   "outputs": [],
   "source": [
    "#Q=28  Write a Python program to find the repeated items of a tuple\n",
    "#create a tuple\n",
    "t1 ='apple','orange','kiwi','apple','banana','apple'\n",
    "print(t1)\n",
    "#return the number of times it appears in the tuple.\n",
    "count = t1.count('apple')\n",
    "print(count)\n",
    "\n"
   ]
  },
  {
   "cell_type": "code",
   "execution_count": null,
   "id": "f7b7a174",
   "metadata": {},
   "outputs": [],
   "source": [
    "#Q=29  Write a Python program to remove an empty tuple(s) from a list of tuples.\n",
    "\n",
    "lt = [('tiger'),(1,3,4),('sonal'),(),(),(),('parth'),()]\n",
    "for seq in lt:\n",
    "    if len(seq) == 0: lt.remove(seq)\n",
    "print(lt)"
   ]
  },
  {
   "cell_type": "code",
   "execution_count": null,
   "id": "e5c275c2",
   "metadata": {},
   "outputs": [],
   "source": [
    "#Q=30  Write a Python program to unzip a list of tuples into individual lists. \n",
    "#create a tuple\n",
    "l = [('krupa','kausu'), ('radha','krishn'), ('rushi','nirav')]\n",
    "print(list(zip(*l)))\n",
    "\n",
    "\n",
    "\n"
   ]
  },
  {
   "cell_type": "code",
   "execution_count": null,
   "id": "1d4a2afb",
   "metadata": {},
   "outputs": [],
   "source": [
    "#Q=31  Write a Python program to convert a list of tuples into a dictionary. \n",
    "#create a list\n",
    "d1= {1:'apple',2:'mango',3:'orange',4:'apple'}\n",
    "d = {}\n",
    "for a, b in d1:\n",
    "    d.setdefault(a, []).append(b)\n",
    "print (d)\n"
   ]
  },
  {
   "cell_type": "code",
   "execution_count": null,
   "id": "cbaeb8ba",
   "metadata": {},
   "outputs": [],
   "source": [
    "#Q=32  How will you create a dictionary using tuples in python? \n",
    "l1={1:'krupali',2:'sonal',3:'rushikesh'}\n",
    "d = dict(l1)\n",
    "print(d)"
   ]
  },
  {
   "cell_type": "code",
   "execution_count": null,
   "id": "cea5faaa",
   "metadata": {},
   "outputs": [],
   "source": [
    "#Q=33  Write a Python script to sort (ascending and descending) a dictionary by value.\n"
   ]
  },
  {
   "cell_type": "code",
   "execution_count": null,
   "id": "488fd49a",
   "metadata": {},
   "outputs": [],
   "source": [
    "#Q=34 Write a Python script to concatenate following dictionaries to create a new one. \n",
    "d1={'a':200,'b':300,'c':500}\n",
    "d2={'d':400,'e':250,'f':350}\n",
    "d3={'g':600,'h':750,'i':960}\n",
    "d4={}\n",
    "for d in (d1,d2,d3):\n",
    "    d4.update(d)\n",
    "print(d4)\n",
    "    \n",
    "    "
   ]
  },
  {
   "cell_type": "code",
   "execution_count": null,
   "id": "d731be14",
   "metadata": {},
   "outputs": [],
   "source": [
    "#Q=35 Write a Python script to check if a given key already exists in a dictionary. \n",
    "d1={1:'keupali',2:'sonal'}\n",
    "if 1 in d1:\n",
    "    print('this is execute')\n",
    "else:\n",
    "    print('this is not execute')\n",
    "    "
   ]
  },
  {
   "cell_type": "code",
   "execution_count": null,
   "id": "76f1cb02",
   "metadata": {},
   "outputs": [],
   "source": [
    "#Q=36 How Do You Traverse Through A Dictionary Object In Python? \n",
    "There are two ways of iterating through a Python dictionary object. \n",
    "One is to fetch associated value for each key in keys() list. \n",
    "There is also items() method of dictionary object which returns list of tuples, \n",
    "each tuple having key and value."
   ]
  },
  {
   "cell_type": "code",
   "execution_count": null,
   "id": "4c5dce98",
   "metadata": {},
   "outputs": [],
   "source": [
    "#Q=37  How Do You Check The Presence Of A Key In A Dictionary? \n",
    "d1={1:'keupali',2:'sonal'}\n",
    "if 1 in d1:\n",
    "    print('this is execute')\n",
    "else:\n",
    "    print('this is not execute')\n",
    "    "
   ]
  },
  {
   "cell_type": "code",
   "execution_count": null,
   "id": "a5aaf8f6",
   "metadata": {},
   "outputs": [],
   "source": [
    "#Q=38  Write a Python script to print a dictionary where the keys are numbers between 1 and 15. \n",
    "#d1={1:2,2:220,3:22,4:78,5:99,6:90,7:27,8:28,9:33,10:12,11:90,12:89,13:112,14:29,15:35,16:45}\n",
    "\n",
    "d=dict()\n",
    "for x in range(1,16):\n",
    "    d[x]=x**2\n",
    "print(d)  \n"
   ]
  },
  {
   "cell_type": "code",
   "execution_count": null,
   "id": "af9cd7c8",
   "metadata": {},
   "outputs": [],
   "source": [
    "#Q=39  Write a Python program to check multiple keys exists in a dictionary\n"
   ]
  },
  {
   "cell_type": "code",
   "execution_count": null,
   "id": "baf06f87",
   "metadata": {},
   "outputs": [],
   "source": [
    "#Q=40  Write a Python script to merge two Python dictionaries \n",
    "\n",
    "\n",
    "d1={'a':100 , 'b':200}\n",
    "d2={'c':300 , 'd':400}\n",
    "d3={}\n",
    "d1.update(d2)\n",
    "print(d1)\n"
   ]
  },
  {
   "cell_type": "code",
   "execution_count": 64,
   "id": "9802169a",
   "metadata": {},
   "outputs": [
    {
     "name": "stdout",
     "output_type": "stream",
     "text": [
      "{'red': 'krupali', 'green': 'sonal', 'blue': 'rushikesh'}\n"
     ]
    }
   ],
   "source": [
    "#Q=41 Write a Python program to map two lists into a dictionary \n",
    "t1=['red', 'green', 'blue']\n",
    "t2=['krupali','sonal','rushikesh']\n",
    "t3=dict(zip(t1,t2))\n",
    "print(t3)"
   ]
  },
  {
   "cell_type": "code",
   "execution_count": 69,
   "id": "507df717",
   "metadata": {},
   "outputs": [
    {
     "name": "stdout",
     "output_type": "stream",
     "text": [
      "{'a': 400, 'b': 400, 'c': 300, 'd': 400}\n"
     ]
    }
   ],
   "source": [
    "#Q=42 Write a Python program to combine two dictionary adding values for\n",
    "#common keys.\n",
    "#o d1 = {'a': 100, 'b': 200, 'c':300} o d2 = {'a': 300, 'b':\n",
    "#200,’d’:400}  \n",
    "\n",
    "d1 = {'a': 100, 'b': 200, 'c':300} \n",
    "d2 = {'a': 300, 'b': 200, 'd':400}\n",
    "\n",
    "for k,v in d2.items():\n",
    "    if k in d1: \n",
    "        d1[k] = v + d1.get(k)\n",
    "    else: d1[k] = v\n",
    "print(d1)"
   ]
  },
  {
   "cell_type": "code",
   "execution_count": 70,
   "id": "936d2e9e",
   "metadata": {
    "scrolled": false
   },
   "outputs": [
    {
     "name": "stdout",
     "output_type": "stream",
     "text": [
      "{400, 300}\n"
     ]
    }
   ],
   "source": [
    "#Q=43 Sample output: Counter ({'a': 400, 'b': 400,’d’: 400, 'c': 300}).\n",
    "\n",
    "\n",
    "d1 = {'a': 100, 'b': 200, 'c':300}\n",
    "d2 = {'a': 300, 'b': 200, 'd':400}\n",
    "d = Counter(d1) + Counter(d2)\n",
    "print(d) "
   ]
  },
  {
   "cell_type": "code",
   "execution_count": 71,
   "id": "84a8ce23",
   "metadata": {},
   "outputs": [
    {
     "name": "stdout",
     "output_type": "stream",
     "text": [
      "{400, 300}\n"
     ]
    }
   ],
   "source": [
    "#Q=44 Write a Python program to print all unique values in a dictionary. \n",
    "d1 = {'a': 400, 'b': 400, 'c': 300, 'd': 400}\n",
    "s = set()\n",
    "\n",
    "for k,v in d1.items():\n",
    "    s.add(v)\n",
    "print(s)"
   ]
  },
  {
   "cell_type": "code",
   "execution_count": 65,
   "id": "66511858",
   "metadata": {},
   "outputs": [
    {
     "name": "stdout",
     "output_type": "stream",
     "text": [
      "[(1, 11), (2, 12), (3, 13), (4, 14), (5, 15), (6, 16), (7, 17), (8, 18), (9, 19), (10, 20)]\n"
     ]
    }
   ],
   "source": [
    "#Q=45 Why Do You Use the Zip () Method in Python?\n",
    "# Write a Python program to create and display all combinations of letters,\n",
    "# selecting each letter from a different key in a dictionary.\n",
    "# o Sample data: {'1': ['a','b'], '2': ['c','d']} o Expected Output:\n",
    "# o ac ad bc bd \n",
    "\n",
    "d1={1,2,3,4,5,6,7,8,9,10}\n",
    "d2={11,12,13,14,15,16,17,18,19,20}\n",
    "dic=list(zip(d1,d2))\n",
    "print(dic)\n",
    "\n"
   ]
  },
  {
   "cell_type": "code",
   "execution_count": 66,
   "id": "4d5db461",
   "metadata": {},
   "outputs": [
    {
     "ename": "SyntaxError",
     "evalue": "invalid syntax (657329181.py, line 4)",
     "output_type": "error",
     "traceback": [
      "\u001b[1;36m  Input \u001b[1;32mIn [66]\u001b[1;36m\u001b[0m\n\u001b[1;33m    d2=(3,d1,key=d1.get)\u001b[0m\n\u001b[1;37m                ^\u001b[0m\n\u001b[1;31mSyntaxError\u001b[0m\u001b[1;31m:\u001b[0m invalid syntax\n"
     ]
    }
   ],
   "source": [
    "#Q=46 Write a Python program to find the highest 3 values in a dictionary  \n",
    "\n",
    "d1={'a':678,'b':998,'c':1000,'d':888,'c':9000,'d':8990}\n",
    "d2=(3,d1,key=d1.get)\n",
    "print=(d2)\n",
    "                            #syntex error"
   ]
  },
  {
   "cell_type": "code",
   "execution_count": 68,
   "id": "3315c8c8",
   "metadata": {},
   "outputs": [
    {
     "name": "stdout",
     "output_type": "stream",
     "text": [
      "{'item1': 1150, 'item2': 300, 'item3': 750}\n"
     ]
    }
   ],
   "source": [
    "#Q=47 Write a Python program to combine values in python list of dictionaries.\n",
    "\n",
    "l1 = [{'item': 'item1', 'amount': 400}, {'item': 'item2', 'amount': 300}, {'item': 'item1', 'amount': 750}, \n",
    "      {'item': 'item3', 'amount': 750}]\n",
    "dic = dict()\n",
    "l2 = list()\n",
    "l3 = list()\n",
    "\n",
    "for seq in l1:\n",
    "    for k,v in seq.items():\n",
    "        if k == 'item': l2.append(v)            \n",
    "        if k == 'amount': l3.append(v)\n",
    "\n",
    "for _ in range(len(l2)):\n",
    "    if l2[_] not in dic: dic[l2[_]] = l3[_]\n",
    "    else: dic[l2[_]] = l3[_] + dic.get(l2[_])\n",
    "print(dic)"
   ]
  },
  {
   "cell_type": "code",
   "execution_count": 1,
   "id": "cfaea9ec",
   "metadata": {},
   "outputs": [
    {
     "name": "stdout",
     "output_type": "stream",
     "text": [
      "120\n"
     ]
    }
   ],
   "source": [
    "#Q=48   Write a Python function to calculate the factorial of a number (anonnegative integer) \n",
    "\n",
    "def factorial(n):\n",
    "    if n == 0:\n",
    "        return 1\n",
    "    else:\n",
    "        return n * factorial(n-1)\n",
    "\n",
    "n=5\n",
    "print(factorial(n))\n",
    "\n",
    "\n"
   ]
  },
  {
   "cell_type": "code",
   "execution_count": 2,
   "id": "91d8e351",
   "metadata": {},
   "outputs": [
    {
     "name": "stdout",
     "output_type": "stream",
     "text": [
      "is in the range:\n"
     ]
    }
   ],
   "source": [
    "#Q=49 Write a Python function to check whether a number is in a given range \n",
    "def t_range(n):\n",
    "    if n in range(10):\n",
    "        print('is in the range:')\n",
    "    else:\n",
    "        print('is in not a range:')\n",
    "t_range(5)\n"
   ]
  },
  {
   "cell_type": "code",
   "execution_count": 73,
   "id": "ae180c32",
   "metadata": {},
   "outputs": [
    {
     "name": "stdout",
     "output_type": "stream",
     "text": [
      "True\n"
     ]
    }
   ],
   "source": [
    "#Q=50  Write a Python function to check whether a number is perfect or not. \n",
    "def per_num(n):\n",
    "    sum = 0\n",
    "    for x in range(1, n):\n",
    "        if n % x == 0:\n",
    "            sum += x\n",
    "    return sum == n\n",
    "print(per_num(6))"
   ]
  },
  {
   "cell_type": "code",
   "execution_count": 4,
   "id": "85c4b5bd",
   "metadata": {},
   "outputs": [
    {
     "name": "stdout",
     "output_type": "stream",
     "text": [
      "enter the value check for palindrome:5\n",
      "yes it is palindrome\n"
     ]
    }
   ],
   "source": [
    "#Q=51 Write a Python function that checks whether a passed string is palindrome or not\n",
    "v =input (\"enter the value check for palindrome:\")\n",
    "\n",
    "r=v[::-1]\n",
    "\n",
    "if v == r:\n",
    "    print('yes it is palindrome')\n",
    "else:\n",
    "    print('no it is not a palindrome')\n"
   ]
  },
  {
   "cell_type": "code",
   "execution_count": null,
   "id": "4e23c786",
   "metadata": {},
   "outputs": [],
   "source": [
    "#Q=52  How do you perform pattern matching in Python? Explain \n",
    "  we can perform pattern matching using Regular Expressions in python."
   ]
  },
  {
   "cell_type": "code",
   "execution_count": 5,
   "id": "0dee6e3a",
   "metadata": {},
   "outputs": [
    {
     "data": {
      "text/plain": [
       "21"
      ]
     },
     "execution_count": 5,
     "metadata": {},
     "output_type": "execute_result"
    }
   ],
   "source": [
    "#Q=53  What is lambda function in python? What we call a function which is incomplete version of a function?\n",
    "\n",
    "# A lambda function is a small anonymous function. \n",
    "#    > A lambda function can take any number of arguments, but can only have one expression.\n",
    "#    > We can call 'Stub function' which is imcomplete version of a function.\n",
    "\n",
    "x = lambda a,b,*c : a + b + sum(c)\n",
    "x(2,4,4,5,6)"
   ]
  },
  {
   "cell_type": "code",
   "execution_count": null,
   "id": "b53fbc8a",
   "metadata": {},
   "outputs": [],
   "source": [
    "#Q=54 How Many Basic Types Of Functions Are Available In Python?\n",
    "# There are 3 basic types of function in python.\n",
    "#            1) Built-in functions : print(), min(), max() etc.\n",
    "#            2) User difine functions : def fun():\n",
    "#            3) Anonymous functions : lambda\n"
   ]
  },
  {
   "cell_type": "code",
   "execution_count": 10,
   "id": "31c10b48",
   "metadata": {},
   "outputs": [
    {
     "data": {
      "text/plain": [
       "'khuyfgejhfdiukjsiljsodiljdkl'"
      ]
     },
     "execution_count": 10,
     "metadata": {},
     "output_type": "execute_result"
    }
   ],
   "source": [
    "#Q=55 How can you pick a random item from a list or tuple?\n",
    "\n",
    "# > We can use choice method from random module.\n",
    "import random as r\n",
    "l=['khuyfgejhfdiukjsiljsodiljdkl']\n",
    "r.choice(l)"
   ]
  },
  {
   "cell_type": "code",
   "execution_count": 12,
   "id": "bc489d52",
   "metadata": {},
   "outputs": [
    {
     "name": "stdout",
     "output_type": "stream",
     "text": [
      "84\n"
     ]
    }
   ],
   "source": [
    "#Q=56 How can you pick a random item from a range?\n",
    "\n",
    "#  We can use randrange() method to pick a item from a range.\n",
    "\n",
    "print(r.randrange(100))"
   ]
  },
  {
   "cell_type": "code",
   "execution_count": 25,
   "id": "064d21d1",
   "metadata": {},
   "outputs": [
    {
     "name": "stdout",
     "output_type": "stream",
     "text": [
      "13\n"
     ]
    }
   ],
   "source": [
    "# #Q=57  How can you get a random number in python? > We can use randrange() method to pick a item from a range.\n",
    "\n",
    "#  we can use the randrange() method to get a random number in python.\n",
    "\n",
    "import random\n",
    "\n",
    "print(random.randrange(1,20))\n"
   ]
  },
  {
   "cell_type": "code",
   "execution_count": 53,
   "id": "b45c5f7e",
   "metadata": {},
   "outputs": [
    {
     "name": "stdout",
     "output_type": "stream",
     "text": [
      "42\n"
     ]
    }
   ],
   "source": [
    "#Q=58 How will you set the starting value in generating random numbers?\n",
    "\n",
    "import random\n",
    "\n",
    "#name =['krupali','sonal','rushikesh','kaminiben']\n",
    "\n",
    "print(random.randint(1,50))"
   ]
  },
  {
   "cell_type": "code",
   "execution_count": null,
   "id": "ad3c3d45",
   "metadata": {},
   "outputs": [],
   "source": [
    "#Q=59  How will you randomizes the items of a list in place? \n",
    "shuffle (list)\n",
    "this function randomly reorders the element the elements in a list\n",
    "\n",
    "the function does not return . the shuffled list the  1st is shuffled in place\n",
    "\n",
    "Tuple and string cannot be used with shuffle () as they are immutable"
   ]
  },
  {
   "cell_type": "code",
   "execution_count": 18,
   "id": "fa6a156d",
   "metadata": {},
   "outputs": [
    {
     "ename": "FileNotFoundError",
     "evalue": "[Errno 2] No such file or directory: 'r'",
     "output_type": "error",
     "traceback": [
      "\u001b[1;31m---------------------------------------------------------------------------\u001b[0m",
      "\u001b[1;31mFileNotFoundError\u001b[0m                         Traceback (most recent call last)",
      "Input \u001b[1;32mIn [18]\u001b[0m, in \u001b[0;36m<cell line: 3>\u001b[1;34m()\u001b[0m\n\u001b[0;32m      1\u001b[0m \u001b[38;5;66;03m#Q=60 Write a Python program to read a random line from a file. \u001b[39;00m\n\u001b[1;32m----> 3\u001b[0m f1 \u001b[38;5;241m=\u001b[39m \u001b[38;5;28;43mopen\u001b[39;49m\u001b[43m(\u001b[49m\u001b[38;5;124;43m'\u001b[39;49m\u001b[38;5;124;43mr\u001b[39;49m\u001b[38;5;124;43m'\u001b[39;49m\u001b[43m)\u001b[49m\n\u001b[0;32m      4\u001b[0m l \u001b[38;5;241m=\u001b[39m \u001b[38;5;28mlist\u001b[39m()\n\u001b[0;32m      5\u001b[0m \u001b[38;5;28;01mfor\u001b[39;00m seq \u001b[38;5;129;01min\u001b[39;00m f1:\n",
      "\u001b[1;31mFileNotFoundError\u001b[0m: [Errno 2] No such file or directory: 'r'"
     ]
    }
   ],
   "source": [
    "#Q=60 Write a Python program to read a random line from a file. \n",
    "\n",
    "f1 = open('text','r')\n",
    "l = list()\n",
    "for seq in f1:\n",
    "    l.append(seq)\n",
    "r.choice(l)"
   ]
  },
  {
   "cell_type": "code",
   "execution_count": 22,
   "id": "cd6c687c",
   "metadata": {},
   "outputs": [
    {
     "name": "stdout",
     "output_type": "stream",
     "text": [
      "enter a value for A:8\n",
      "enter a value forH B:9\n",
      "enter a value of hight H:8\n"
     ]
    },
    {
     "ename": "NameError",
     "evalue": "name 'H' is not defined",
     "output_type": "error",
     "traceback": [
      "\u001b[1;31m---------------------------------------------------------------------------\u001b[0m",
      "\u001b[1;31mNameError\u001b[0m                                 Traceback (most recent call last)",
      "Input \u001b[1;32mIn [22]\u001b[0m, in \u001b[0;36m<cell line: 5>\u001b[1;34m()\u001b[0m\n\u001b[0;32m      3\u001b[0m b\u001b[38;5;241m=\u001b[39m\u001b[38;5;28mint\u001b[39m(\u001b[38;5;28minput\u001b[39m(\u001b[38;5;124m\"\u001b[39m\u001b[38;5;124menter a value forH B:\u001b[39m\u001b[38;5;124m\"\u001b[39m))\n\u001b[0;32m      4\u001b[0m c\u001b[38;5;241m=\u001b[39m\u001b[38;5;28mint\u001b[39m(\u001b[38;5;28minput\u001b[39m(\u001b[38;5;124m\"\u001b[39m\u001b[38;5;124menter a value of hight H:\u001b[39m\u001b[38;5;124m\"\u001b[39m))\n\u001b[1;32m----> 5\u001b[0m \u001b[38;5;28mprint\u001b[39m(\u001b[38;5;124m\"\u001b[39m\u001b[38;5;124marea of trapezoid is \u001b[39m\u001b[38;5;124m\"\u001b[39m,(a\u001b[38;5;241m+\u001b[39mb)\u001b[38;5;241m*\u001b[39m(\u001b[43mH\u001b[49m\u001b[38;5;241m/\u001b[39m\u001b[38;5;241m2\u001b[39m))\n",
      "\u001b[1;31mNameError\u001b[0m: name 'H' is not defined"
     ]
    }
   ],
   "source": [
    "#Q=71 Write a Python program to calculate the area of a trapezoid \n",
    "a=int(input(\"enter a value for A:\"))\n",
    "b=int(input(\"enter a value forH B:\"))\n",
    "c=int(input(\"enter a value of hight H:\"))\n",
    "print(\"area of trapezoid is \",(a+b)*(H/2))\n",
    "\n",
    "\n",
    "\n"
   ]
  },
  {
   "cell_type": "code",
   "execution_count": null,
   "id": "c202f127",
   "metadata": {},
   "outputs": [],
   "source": [
    "#Q=72 Write a Python program to calculate the area of a parallelogram "
   ]
  },
  {
   "cell_type": "code",
   "execution_count": null,
   "id": "c6c23642",
   "metadata": {},
   "outputs": [],
   "source": [
    "#Q=73  Write a Python program to calculate surface volume and area of a cylinder "
   ]
  },
  {
   "cell_type": "code",
   "execution_count": null,
   "id": "b5879f70",
   "metadata": {},
   "outputs": [],
   "source": [
    "#Q=74 Write a Python program to returns sum of all divisors of a number"
   ]
  },
  {
   "cell_type": "code",
   "execution_count": 76,
   "id": "8736ae90",
   "metadata": {},
   "outputs": [
    {
     "ename": "SyntaxError",
     "evalue": "invalid syntax (3831295468.py, line 2)",
     "output_type": "error",
     "traceback": [
      "\u001b[1;36m  Input \u001b[1;32mIn [76]\u001b[1;36m\u001b[0m\n\u001b[1;33m    from the specified decimal numbers.\u001b[0m\n\u001b[1;37m             ^\u001b[0m\n\u001b[1;31mSyntaxError\u001b[0m\u001b[1;31m:\u001b[0m invalid syntax\n"
     ]
    }
   ],
   "source": [
    "#Q=75 Write a Python program to find the maximum and minimum numbers from the specified decimal numbers. \n"
   ]
  },
  {
   "cell_type": "code",
   "execution_count": null,
   "id": "44023229",
   "metadata": {},
   "outputs": [],
   "source": []
  },
  {
   "cell_type": "code",
   "execution_count": null,
   "id": "91593bdb",
   "metadata": {},
   "outputs": [],
   "source": []
  },
  {
   "cell_type": "code",
   "execution_count": null,
   "id": "6ca97765",
   "metadata": {},
   "outputs": [],
   "source": []
  },
  {
   "cell_type": "code",
   "execution_count": null,
   "id": "d9cba41c",
   "metadata": {},
   "outputs": [],
   "source": []
  },
  {
   "cell_type": "code",
   "execution_count": null,
   "id": "31895e08",
   "metadata": {},
   "outputs": [],
   "source": []
  },
  {
   "cell_type": "code",
   "execution_count": null,
   "id": "6f560a73",
   "metadata": {},
   "outputs": [],
   "source": []
  }
 ],
 "metadata": {
  "kernelspec": {
   "display_name": "Python 3 (ipykernel)",
   "language": "python",
   "name": "python3"
  },
  "language_info": {
   "codemirror_mode": {
    "name": "ipython",
    "version": 3
   },
   "file_extension": ".py",
   "mimetype": "text/x-python",
   "name": "python",
   "nbconvert_exporter": "python",
   "pygments_lexer": "ipython3",
   "version": "3.9.12"
  }
 },
 "nbformat": 4,
 "nbformat_minor": 5
}
